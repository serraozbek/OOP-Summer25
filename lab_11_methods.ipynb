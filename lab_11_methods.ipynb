{
 "cells": [
  {
   "cell_type": "markdown",
   "id": "487a4806",
   "metadata": {},
   "source": [
    "### task 1"
   ]
  },
  {
   "cell_type": "code",
   "execution_count": 1,
   "id": "30fa91fa",
   "metadata": {},
   "outputs": [],
   "source": [
    "class Student:\n",
    "    def hello(self):\n",
    "        print(\"Hello! I'm Serra Ozbek\")"
   ]
  },
  {
   "cell_type": "code",
   "execution_count": 2,
   "id": "bb081e91",
   "metadata": {},
   "outputs": [
    {
     "name": "stdout",
     "output_type": "stream",
     "text": [
      "Hello! I'm Serra Ozbek\n"
     ]
    }
   ],
   "source": [
    "student1 = Student()\n",
    "student1.hello()"
   ]
  },
  {
   "cell_type": "markdown",
   "id": "c264dce2",
   "metadata": {},
   "source": [
    "### task 2"
   ]
  },
  {
   "cell_type": "code",
   "execution_count": 3,
   "id": "9a20bba3",
   "metadata": {},
   "outputs": [],
   "source": [
    "class Student:\n",
    "    def __init__(self, name, index_number):\n",
    "        self.name = name\n",
    "        self.index_number = index_number\n",
    "\n",
    "    def hello(self):\n",
    "        print(f\"Hello, I'm {self.name} my index number is {self.index_number}\")"
   ]
  },
  {
   "cell_type": "code",
   "execution_count": 4,
   "id": "97ec4ecb",
   "metadata": {},
   "outputs": [
    {
     "name": "stdout",
     "output_type": "stream",
     "text": [
      "Hello, I'm Serra Ozbek my index number is 35248\n"
     ]
    }
   ],
   "source": [
    "student2 = Student(\"Serra Ozbek\", 35248)\n",
    "student2.hello()"
   ]
  },
  {
   "cell_type": "code",
   "execution_count": null,
   "id": "0d81e9e0",
   "metadata": {},
   "outputs": [],
   "source": []
  }
 ],
 "metadata": {
  "kernelspec": {
   "display_name": "Python 3",
   "language": "python",
   "name": "python3"
  },
  "language_info": {
   "codemirror_mode": {
    "name": "ipython",
    "version": 3
   },
   "file_extension": ".py",
   "mimetype": "text/x-python",
   "name": "python",
   "nbconvert_exporter": "python",
   "pygments_lexer": "ipython3",
   "version": "3.12.1"
  }
 },
 "nbformat": 4,
 "nbformat_minor": 5
}
