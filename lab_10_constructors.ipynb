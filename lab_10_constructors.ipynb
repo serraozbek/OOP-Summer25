{
 "cells": [
  {
   "cell_type": "code",
   "execution_count": 1,
   "id": "89445152",
   "metadata": {},
   "outputs": [],
   "source": [
    "class animal:\n",
    "    def __init__(self):\n",
    "        print(\"a new animal has been created!\")"
   ]
  },
  {
   "cell_type": "code",
   "execution_count": 2,
   "metadata": {},
   "outputs": [
    {
     "name": "stdout",
     "output_type": "stream",
     "text": [
      "a new animal has been created!\n",
      "a new animal has been created!\n",
      "a new animal has been created!\n"
     ]
    }
   ],
   "source": [
    "animal1 = animal()\n",
    "animal2 = animal()\n",
    "animal3 = animal()"
   ]
  },
  {
   "cell_type": "markdown",
   "id": "bb57cdfb",
   "metadata": {},
   "source": [
    "# class car\n"
   ]
  },
  {
   "cell_type": "code",
   "execution_count": 3,
   "id": "162658aa",
   "metadata": {},
   "outputs": [],
   "source": [
    "class Car:\n",
    "    def __init__(self, brand, model):\n",
    "        self.brand = brand\n",
    "        self.model = model\n",
    "        print(f\"Car created: {brand} {model}\")"
   ]
  },
  {
   "cell_type": "code",
   "execution_count": 4,
   "id": "6476bc06",
   "metadata": {},
   "outputs": [
    {
     "name": "stdout",
     "output_type": "stream",
     "text": [
      "Car created: Mercedes G63\n",
      "Car created: BMW X5\n",
      "Car created: Tesla Model Y\n"
     ]
    }
   ],
   "source": [
    "car1 = Car(\"Mercedes\", \"G63\")\n",
    "car2 = Car(\"BMW\", \"X5\")\n",
    "car3 = Car(\"Tesla\", \"Model Y\") "
   ]
  },
  {
   "cell_type": "markdown",
   "id": "0f2647a7",
   "metadata": {},
   "source": [
    "## Task for extra point - complex constructor"
   ]
  },
  {
   "cell_type": "markdown",
   "id": "a3aa85e3",
   "metadata": {},
   "source": []
  },
  {
   "cell_type": "code",
   "execution_count": 5,
   "id": "3f3cdbd2",
   "metadata": {},
   "outputs": [],
   "source": [
    "class House:\n",
    "    def __init__(self, location, floors, furnitures):\n",
    "        self.location = location       \n",
    "        self.floors = floors          \n",
    "        self.furnitures = furnitures    \n",
    "        \n",
    "        print(f\"House created in {location[\"city\"]}, {floors} floors, with furniture: {\", \".join(furnitures)}\")\n"
   ]
  },
  {
   "cell_type": "code",
   "execution_count": 6,
   "id": "a3f35e5f",
   "metadata": {},
   "outputs": [
    {
     "name": "stdout",
     "output_type": "stream",
     "text": [
      "House created in Warsaw, 1 floors, with furniture: bed, table, chair\n",
      "House created in Antalya, 6 floors, with furniture: bed, lamp, wardrobe\n"
     ]
    }
   ],
   "source": [
    "house1 = House(\n",
    "    location={\n",
    "        \"country\": \"Poland\",\n",
    "        \"city\": \"Warsaw\",\n",
    "        \"street\": \"Powsinska\"\n",
    "    },\n",
    "    floors= 1,\n",
    "    furnitures=[\"bed\", \"table\", \"chair\"]\n",
    ")\n",
    "\n",
    "house2 = House(\n",
    "    location={\n",
    "        \"country\": \"Turkey\",\n",
    "        \"city\": \"Antalya\",\n",
    "        \"street\": \"Sedir\"\n",
    "    },\n",
    "    floors= 6,\n",
    "    furnitures=[\"bed\", \"lamp\", \"wardrobe\"]\n",
    ")\n"
   ]
  }
 ],
 "metadata": {
  "kernelspec": {
   "display_name": "Python 3",
   "language": "python",
   "name": "python3"
  },
  "language_info": {
   "codemirror_mode": {
    "name": "ipython",
    "version": 3
   },
   "file_extension": ".py",
   "mimetype": "text/x-python",
   "name": "python",
   "nbconvert_exporter": "python",
   "pygments_lexer": "ipython3",
   "version": "3.12.1"
  }
 },
 "nbformat": 4,
 "nbformat_minor": 5
}
